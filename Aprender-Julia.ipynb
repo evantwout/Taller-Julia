{
 "cells": [
  {
   "cell_type": "markdown",
   "metadata": {},
   "source": [
    "# Esto es Jupyter\n",
    "\n",
    "Arriba a la derecha se puede ver el \"kernel\" o núcleo que interpretará nuestro código. En este caso, usaremos el lenguaje de programación Julia.\n",
    "\n",
    "Este texto está inserto en una celda de tipo \"markdown\", que nos permite fácilmente ordenar nuestras ideas en texto.\n",
    "\n",
    "Cuenta, entre otras cosas, con soporte para:\n",
    "\n",
    "# Titulos\n",
    "## Subtitulos\n",
    "### Bajadas\n",
    "#### Sub-bajadas\n",
    "\n",
    "Al insertar elementos con guiones se obtienen:\n",
    "\n",
    " - Listas\n",
    " - De\n",
    " - Elementos\n",
    " \n",
    "Si en lugar de eso utilizamos números, tenemos:\n",
    "\n",
    " 1. Enumeraciones\n",
    " 2. Para contar\n",
    " 3. Cosas\n",
    " \n",
    "También se puede escribir **en negrita** o *en cursiva*."
   ]
  },
  {
   "cell_type": "markdown",
   "metadata": {},
   "source": [
    "## Ahora, al código\n",
    "Para crear una celda, en la barra de herramientas en la barra superior, entrar a \"Insert\" y luego hacer click en \"insert cell below\" "
   ]
  },
  {
   "cell_type": "code",
   "execution_count": null,
   "metadata": {},
   "outputs": [],
   "source": [
    "# Esta es una celda de código ejecutable\n",
    "# Shift + Enter para correr nuestra celda: \n",
    "\n",
    "print(\"¡Hola mundo!\")"
   ]
  },
  {
   "cell_type": "markdown",
   "metadata": {},
   "source": [
    "En programacion tenemos distintos tipos de variables. Las más utilizadas son:\n",
    "\n",
    "- Strings\n",
    "- Integers\n",
    "- Float\n",
    "\n",
    "El primer tipo corresponde a las variables asociadas con texto. Por ejemplo en la celda anterior imprimimos una variable string.\n",
    "\n",
    "Las siguientes dos se utilizan para representar números, los integers son las variables que pertencen a $\\mathbb{Z}$. Por ejemplo $1, 2, 3 -4, 0, 403$, etc.\n",
    "\n",
    "Mientras tanto, los floats corresponden a números decimales, tales como $0.1, 4.3, 10.00435$. Sin embargo, éstos no corresponden a todos los números reales, hay un límite de cuantos decimales se pueden representar."
   ]
  },
  {
   "cell_type": "markdown",
   "metadata": {},
   "source": [
    "Esto nos importa ya que tener en cuenta el tipo de variables con el que vamos a trabajar es siempre una buena idea. En nuestro caso, queremos utilizar float."
   ]
  },
  {
   "cell_type": "code",
   "execution_count": null,
   "metadata": {},
   "outputs": [],
   "source": [
    "# Definición de variables\n",
    "# Nombre de la variable a la izquierda, valor a la derecha\n",
    "\n",
    "a = 2.0\n",
    "vaca = \"burro\"\n",
    "burro = \"vaca\""
   ]
  },
  {
   "cell_type": "markdown",
   "metadata": {},
   "source": [
    "Notar que Jupyter haga un *output* para la última línea. Para evitarlo, se tiene que terminar la línea con una comilla (;)."
   ]
  },
  {
   "cell_type": "markdown",
   "metadata": {},
   "source": [
    "Notar que existe una diferencia entre la variable a y el caracter \"a\"\n"
   ]
  },
  {
   "cell_type": "code",
   "execution_count": null,
   "metadata": {
    "scrolled": true
   },
   "outputs": [],
   "source": [
    "print(\"La variable \")\n",
    "print(a)\n",
    "print(\" es distinto a la letra \" )\n",
    "print(\"a\")"
   ]
  },
  {
   "cell_type": "markdown",
   "metadata": {},
   "source": [
    "De igual manera, es distinto \"1\" que 1. Por ejemplo, si se tratan de sumar ambas variables, ocurrirá un error"
   ]
  },
  {
   "cell_type": "code",
   "execution_count": null,
   "metadata": {
    "scrolled": true
   },
   "outputs": [],
   "source": [
    "1 + \"1\""
   ]
  },
  {
   "cell_type": "markdown",
   "metadata": {},
   "source": [
    "Para ver el tipo de la variable, se puede usar la función `typeof`."
   ]
  },
  {
   "cell_type": "code",
   "execution_count": null,
   "metadata": {},
   "outputs": [],
   "source": [
    "typeof(\"1\")"
   ]
  },
  {
   "cell_type": "markdown",
   "metadata": {},
   "source": [
    "Por último, notar que los computadores no son capaces de representar todos los números, solo hasta cierta precisión. Esto se ejemplifica en la siguiente celda:"
   ]
  },
  {
   "cell_type": "code",
   "execution_count": null,
   "metadata": {},
   "outputs": [],
   "source": [
    "b = 9223372036854775807"
   ]
  },
  {
   "cell_type": "markdown",
   "metadata": {},
   "source": [
    "**Ejercicio:** Calcula `b+1`. ¿Qué valor esperas ver?"
   ]
  },
  {
   "cell_type": "code",
   "execution_count": null,
   "metadata": {},
   "outputs": [],
   "source": [
    "b+1"
   ]
  },
  {
   "cell_type": "markdown",
   "metadata": {},
   "source": [
    "A continuación, veremos algunos conceptos útiles para que puedas comenzar a programar!\n",
    "\n",
    "### Input del usuario\n",
    "\n",
    "Uno podría querer ingresar datos manualmente a un programa en ejecución. Por ejemplo, si quisiéramos evaluar un polinomio:\n",
    "\n",
    "$$p(x) = x^2 + 3x + 2$$ \n",
    "\n",
    "Nos gustaría que el usuario pudiese elegir un cierto $\\hat{x}$ una vez que nuestro programa esté siendo ejecutado. Lograr esto se puede como el siguiente:"
   ]
  },
  {
   "cell_type": "code",
   "execution_count": null,
   "metadata": {},
   "outputs": [],
   "source": [
    "# Definimos el polinomio\n",
    "p(x) = x^2 + 3x + 2\n",
    "\n",
    "println(\"Ingresa el x para evaluar el polinomio:\")\n",
    "\n",
    "# El usuario ingresa x̂ como string\n",
    "x̂ = readline()\n",
    "\n",
    "# Interpretamos x̂ con tipo de datos numérico entero \n",
    "x̂ = parse(Int32, x̂)\n",
    "\n",
    "# Retornamos el polinomio evaluado en x̂\n",
    "println(\"El polinomio evaluado en x̂ = \", x̂, \" es: \", p(x̂))"
   ]
  },
  {
   "cell_type": "markdown",
   "metadata": {},
   "source": [
    "Notar que en Julia se puede usar cáracteres especiales, como el tilde, para las variables.\n",
    "\n",
    "**Ejercicio:** Comienza la celda siguiente con `\\:smil` y presiona el *Tab* en el teclador. Elige una de las opciones y asigna un valor a un smiley."
   ]
  },
  {
   "cell_type": "code",
   "execution_count": null,
   "metadata": {},
   "outputs": [],
   "source": []
  },
  {
   "cell_type": "markdown",
   "metadata": {},
   "source": [
    "### Funciones\n",
    "\n",
    "Las funciones como concepto son muy útiles para programar todo tipo de cosas.\n",
    "En Julia, es bastante simple definirlas. Una forma fácil de conceptualizar esto es ver a nuestro polinomio $p(x)$ como una función:"
   ]
  },
  {
   "cell_type": "code",
   "execution_count": null,
   "metadata": {},
   "outputs": [],
   "source": [
    "function p(x)\n",
    "    return x^2 + 3x + 2\n",
    "end;"
   ]
  },
  {
   "cell_type": "markdown",
   "metadata": {},
   "source": [
    "¡Es así de simple! Cada función podrá retornar (mediante la expresión ```return```) un resultado para ser almacenado como variable en otras funciones o procedimientos.\n",
    "\n",
    "Por otro lado, para denotar una función, delimitamos el bloque de código con las palabras ```function``` y ```end```.\n",
    "\n",
    "Lo único que resta es darle un nombre a nuestra función, $p$, y entregar entre paréntesis todos los argumentos que pueda requerir para computar su resultado."
   ]
  },
  {
   "cell_type": "code",
   "execution_count": null,
   "metadata": {},
   "outputs": [],
   "source": [
    "# Nuestro polinomio funciona igual que antes!\n",
    "resultado = p(2)\n",
    "println(\"El polinomio para x = 2 vale: \", resultado)"
   ]
  },
  {
   "cell_type": "markdown",
   "metadata": {},
   "source": [
    "### Condicionales\n",
    "\n",
    "Los condicionales nos permiten controlar qué secciones de código se ejecutarán, en función del valor de ciertas variables o condiciones que determinemos importantes. Por ejemplo:"
   ]
  },
  {
   "cell_type": "code",
   "execution_count": null,
   "metadata": {},
   "outputs": [],
   "source": [
    "if (1 > 2)\n",
    "    println(\"Esto nunca se ejecutará, pues 1 < 2.\")\n",
    "elseif (2 == 2)\n",
    "    println(\"Entramos aquí, pues es cierto que 2 = 2.\")\n",
    "else\n",
    "    println(\"Podemos usar esta sección para cuando ninguna otra condición anterior se cumple.\")\n",
    "end"
   ]
  },
  {
   "cell_type": "markdown",
   "metadata": {},
   "source": [
    "### Arreglos\n",
    "\n",
    "Los arreglos son estructuras de datos que nos permitirán guardar varios valores bajo una misma variable."
   ]
  },
  {
   "cell_type": "code",
   "execution_count": null,
   "metadata": {},
   "outputs": [],
   "source": [
    "arreglo1 = [1, 2, 3]\n",
    "arreglo2 = [1.5, 2.5, 3.5]"
   ]
  },
  {
   "cell_type": "code",
   "execution_count": null,
   "metadata": {},
   "outputs": [],
   "source": [
    "for i in 1:length(arreglo1)\n",
    "    println(arreglo1[i])\n",
    "end"
   ]
  },
  {
   "cell_type": "markdown",
   "metadata": {},
   "source": [
    "**Ejercicio:** Suma los dos arreglos."
   ]
  },
  {
   "cell_type": "code",
   "execution_count": null,
   "metadata": {},
   "outputs": [],
   "source": []
  },
  {
   "cell_type": "markdown",
   "metadata": {},
   "source": [
    "**Ejercicio:** Suma 1 a todos los elementos del arreglo, sin usar un bucle/ciclo."
   ]
  },
  {
   "cell_type": "code",
   "execution_count": null,
   "metadata": {},
   "outputs": [],
   "source": []
  },
  {
   "cell_type": "markdown",
   "metadata": {
    "collapsed": true
   },
   "source": [
    "## Tutoriales\n",
    "\n",
    "Se puede encontrar una variedad a tutoriales en *JuliaBox* o en GitHub: https://github.com/JuliaComputing/JuliaBoxTutorials"
   ]
  }
 ],
 "metadata": {
  "kernelspec": {
   "display_name": "Julia 1.0.3",
   "language": "julia",
   "name": "julia-1.0"
  },
  "language_info": {
   "file_extension": ".jl",
   "mimetype": "application/julia",
   "name": "julia",
   "version": "1.0.3"
  }
 },
 "nbformat": 4,
 "nbformat_minor": 2
}
