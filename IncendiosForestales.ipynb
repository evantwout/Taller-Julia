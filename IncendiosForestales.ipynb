{
 "cells": [
  {
   "cell_type": "markdown",
   "metadata": {},
   "source": [
    "# Predicir la extensión de incendios forestales con bosques aleatorios"
   ]
  },
  {
   "cell_type": "markdown",
   "metadata": {},
   "source": [
    "## Introducción\n",
    "\n",
    "Incendios ocurren a menudo en parques naturales y tienen un impacto grande en la sustentabilidad de la flora y fauna y la seguridad de los visitantes. Por este motivo, se quiere entender los factores que son relevantes para el fenómeno de los incendios forestales. Este tutorial pretende de diseñar un modelo de *machine learning* para la predicción de la extensión de incendios forestales.\n",
    "\n",
    "La tutorial está basada en el artícula \"*A Data Mining Approach to Predict Forest Fires using Meteorological Data*\" de P. Cortez y A. Morais (ver http://archive.ics.uci.edu/ml/datasets/Forest+Fires)."
   ]
  },
  {
   "cell_type": "markdown",
   "metadata": {},
   "source": [
    "## Cargar la base de datos\n",
    "\n",
    "Antes de comenzar el análisis, tenemos que cargar la base de datos con los registros de incendios históricos del parque nacional *Montesinho* en el norte del Portugal. La base de datos está disponible en internet (ver http://archive.ics.uci.edu/ml/machine-learning-databases/forest-fires/forestfires.csv) en formato CSV. Julia puede cargar bases de datos directamente del internet con el paquete *HTTP*. El paquete *CSV* es necesario para abrir archivos formato CSV y un paquete adecuado para manejar bases de datos en Julia es *DataFrames*."
   ]
  },
  {
   "cell_type": "markdown",
   "metadata": {},
   "source": [
    "Primero, tenemos que cargar los paquetes en Julia con la palabra reservada `using`."
   ]
  },
  {
   "cell_type": "code",
   "execution_count": null,
   "metadata": {},
   "outputs": [],
   "source": [
    "using CSV, DataFrames, HTTP"
   ]
  },
  {
   "cell_type": "markdown",
   "metadata": {},
   "source": [
    "Si recibes un error que Julia no puede encontrar el paquete, capaz que nunca has usada estos paquetes antes. Para usar nuevos paquetes, se tiene que instalarlos con el paquete *Pkg* y la función `Pkg.add(\"paquete\")`."
   ]
  },
  {
   "cell_type": "code",
   "execution_count": null,
   "metadata": {},
   "outputs": [],
   "source": [
    "# using Pkg\n",
    "# Pkg.add([\"CSV\", \"DataFrames\", \"HTTP\"])"
   ]
  },
  {
   "cell_type": "markdown",
   "metadata": {},
   "source": [
    "Ahora cargamos la base de datos del internet y lo abrimos como un objeto de *DataFrame*."
   ]
  },
  {
   "cell_type": "code",
   "execution_count": null,
   "metadata": {},
   "outputs": [],
   "source": [
    "datafile = HTTP.get(\"https://archive.ics.uci.edu/ml/machine-learning-databases/forest-fires/forestfires.csv\")\n",
    "df = CSV.read(IOBuffer(datafile.body))"
   ]
  },
  {
   "cell_type": "markdown",
   "metadata": {},
   "source": [
    "Si quieres abrir una base de datos desde tu computador, tienes que guardarla en la mapa del código y usar la función `CSV.read()'."
   ]
  },
  {
   "cell_type": "code",
   "execution_count": null,
   "metadata": {},
   "outputs": [],
   "source": [
    "# df = CSV.read(\"forestfires.csv\")"
   ]
  },
  {
   "cell_type": "markdown",
   "metadata": {},
   "source": [
    "La función previa mostró el primer parte de la base de datos. Para explorar la base de datos, responde las preguntas siguientes."
   ]
  },
  {
   "cell_type": "markdown",
   "metadata": {},
   "source": [
    "**Ejercicio:** Muestra los primeros 10 registros de la base de datos con la función `first()`. La primera variable de *input* is el *Dataframe* y la segunda el número de filas para mostrar.\n",
    "\n",
    "Recuerde que se puede ver la documentación de una función con un ?, es decir, ```?first```."
   ]
  },
  {
   "cell_type": "code",
   "execution_count": null,
   "metadata": {},
   "outputs": [],
   "source": []
  },
  {
   "cell_type": "markdown",
   "metadata": {},
   "source": [
    "**Ejercicio:** Muestra los últimos 7 registros de la base de datos con la función `last()`."
   ]
  },
  {
   "cell_type": "code",
   "execution_count": null,
   "metadata": {},
   "outputs": [],
   "source": []
  },
  {
   "cell_type": "markdown",
   "metadata": {
    "collapsed": true
   },
   "source": [
    "**Ejercicio:** ¿Cuántos registros hay en la base? ¿Cuántos variables tiene cada registro? *Sugerencia:* Usa la función `size()`."
   ]
  },
  {
   "cell_type": "code",
   "execution_count": null,
   "metadata": {},
   "outputs": [],
   "source": []
  },
  {
   "cell_type": "markdown",
   "metadata": {},
   "source": [
    "**Ejercicio:** Guarda los nombres de los variables en un arreglo con la función `names()`."
   ]
  },
  {
   "cell_type": "code",
   "execution_count": null,
   "metadata": {},
   "outputs": [],
   "source": []
  },
  {
   "cell_type": "markdown",
   "metadata": {},
   "source": [
    "**Ejercicio:** Usa la función `describe()` y explica el resultado."
   ]
  },
  {
   "cell_type": "code",
   "execution_count": null,
   "metadata": {},
   "outputs": [],
   "source": []
  },
  {
   "cell_type": "markdown",
   "metadata": {},
   "source": [
    "## Explorar la base de datos\n",
    "\n",
    "Ahora tenemos la base de datos cargado y corriendo. Queremos entender mas sobre los registros en la base y el fenómeno de incendios forestales. Por este motivo vamos a dibujar algunos estadísticas de las variables.\n",
    "\n",
    "La variable clave en la base de datos es el área quemada, lo cual va ser la variable que queremos predecir, el *label*. Los *features* son las variables que podrían tener valor predictivo, por ejemplo la temperatura y humedad."
   ]
  },
  {
   "cell_type": "markdown",
   "metadata": {},
   "source": [
    "Primero, tomamos los datos del área quemada de cada registro y lo guardamos en un arreglo.\n",
    "\n",
    "**Ejercicio:** Explica que pasa en el código siguiente."
   ]
  },
  {
   "cell_type": "code",
   "execution_count": null,
   "metadata": {},
   "outputs": [],
   "source": [
    "areaIncendio = convert.(Float64, dropmissing(df).area)"
   ]
  },
  {
   "cell_type": "markdown",
   "metadata": {},
   "source": [
    "**Ejercicio:** Calcule el mínimo, máximo, promedio y mediano del áerea quemada.\n",
    "\n",
    "*Sugerencia:* El paquete ```Statistics``` podría ser útil, porque tiene las funciones ```minimum```, ```maximum```, ```mean``` y ```mediano```."
   ]
  },
  {
   "cell_type": "code",
   "execution_count": null,
   "metadata": {},
   "outputs": [],
   "source": []
  },
  {
   "cell_type": "markdown",
   "metadata": {},
   "source": [
    "La unidad de área quemada es hectários."
   ]
  },
  {
   "cell_type": "markdown",
   "metadata": {},
   "source": [
    "Para entender la distribución del área de los incendios históricos, una diagrama de baras sería valioso. Para plotear, Julia tiene una variedad de paquetes, uno de los cuales es ```Plots```. Este paquete es una interfaz a distintos *backends*, como por ejemplo ````GR```."
   ]
  },
  {
   "cell_type": "code",
   "execution_count": null,
   "metadata": {},
   "outputs": [],
   "source": [
    "using Plots\n",
    "gr()"
   ]
  },
  {
   "cell_type": "code",
   "execution_count": null,
   "metadata": {},
   "outputs": [],
   "source": [
    "histogram(areaIncendio, bins=5, label=\"\", title=\"Cantidad de incendios forestales\", xlabel=\"área quemada\")"
   ]
  },
  {
   "cell_type": "markdown",
   "metadata": {},
   "source": [
    "**Ejercico:** Cambia el número de franjas para mejorar la histograma."
   ]
  },
  {
   "cell_type": "markdown",
   "metadata": {},
   "source": [
    "Se nota que hay muchos incendios pequeños en la base de datos. Una cantidad grande de registros tiene 0.0 como área quemada. Esto dice que el área era más pequeña que la escala mínima para registarlo, entonces, ¡sí había un incendio! Para visualisar la magnitud de los incendios mejor, se puede usar una escala logarítmica."
   ]
  },
  {
   "cell_type": "code",
   "execution_count": null,
   "metadata": {},
   "outputs": [],
   "source": [
    "logArea = log10.(areaIncendio.+1);"
   ]
  },
  {
   "cell_type": "code",
   "execution_count": null,
   "metadata": {},
   "outputs": [],
   "source": [
    "histogram(logArea, bins=5, label=\"\", title=\"Cantidad de incendios forestales\", xlabel=\"log10(área quemada)\")"
   ]
  },
  {
   "cell_type": "markdown",
   "metadata": {},
   "source": [
    "**Ejercicio:** Explica por qué se tiene que sumar 1 al área quemada antes de tomar el logarítmo."
   ]
  },
  {
   "cell_type": "markdown",
   "metadata": {},
   "source": [
    "**Ejercicio:** Explica por qué la histograma es distinta después tomar el logarítmo."
   ]
  },
  {
   "cell_type": "markdown",
   "metadata": {},
   "source": [
    "## Buscar variables con valor predictivo\n",
    "\n",
    "Para evitar futuros incendios forestales grandes, es importante entender cuales variables son importantes a la hora de cuantificar el riesgo para tener incendios. Por ejemplo, una temperatura alta podría apoyar en la propagación de incendios forestales. Para ver si eso fuera así en los datos históricos, hacemos una exploración de las relaciones entre los variables y el área quemada de incendios históricos."
   ]
  },
  {
   "cell_type": "markdown",
   "metadata": {},
   "source": [
    "La base de datos tiene cuatro variables de la clima cuando el incendio surgió. Dibujamos estos variables con respecto al área quemada."
   ]
  },
  {
   "cell_type": "code",
   "execution_count": null,
   "metadata": {},
   "outputs": [],
   "source": [
    "temperatura = convert.(Float64, dropmissing(df).temp);\n",
    "humedad = convert.(Float64, dropmissing(df).RH);\n",
    "viento = convert.(Float64, dropmissing(df).wind);\n",
    "lluvia = convert.(Float64, dropmissing(df).rain);"
   ]
  },
  {
   "cell_type": "code",
   "execution_count": null,
   "metadata": {},
   "outputs": [],
   "source": [
    "pl1 = scatter(temperatura, logArea, label=\"\", xlabel=\"temperatura\", ylabel=\"log(área quemada)\");\n",
    "pl2 = scatter(humedad, logArea, label=\"\", xlabel=\"humedad\", ylabel=\"log(área quemada)\");\n",
    "pl3 = scatter(viento, logArea, label=\"\", xlabel=\"viento\", ylabel=\"log(área quemada)\");\n",
    "pl4 = scatter(lluvia, logArea, label=\"\", xlabel=\"lluvia\", ylabel=\"log(área quemada)\");\n",
    "plot(pl1,pl2,pl3,pl4)"
   ]
  },
  {
   "cell_type": "markdown",
   "metadata": {},
   "source": [
    "**Ejercicio:** Explica cuál de las variables tiene un valor predictivo mayor."
   ]
  },
  {
   "cell_type": "markdown",
   "metadata": {},
   "source": [
    "Las agencias de meteorología han definida distintas medidas para el riesgo de incendios forestales, como por ejemplo el *Forest Weather Index* (FWI). Estos índices principalmente dependen de los factores *Fine Fuel Moisture Code* (FFMC), *Duff Moisture Code* (DMC), *Drought Code* (DC), y *Initial Spread Index* (ISI)."
   ]
  },
  {
   "cell_type": "markdown",
   "metadata": {},
   "source": [
    "**Ejercicio:** Dibuja la relación entre estos indicadores y el área quemada de los incendios en la base de datos.\n",
    "\n",
    "*Sugerencia:* Se puede copiar el código para plotear las variables de clima y cambiar los nombres."
   ]
  },
  {
   "cell_type": "code",
   "execution_count": null,
   "metadata": {},
   "outputs": [],
   "source": []
  },
  {
   "cell_type": "markdown",
   "metadata": {},
   "source": [
    "La base de datos también cuenta con datos como la fecha y ubicación del incendio.\n",
    "\n",
    "**Ejercicio:** Investigue si la fecha y ubicación tiene impacto en el área quemada y explica por qué sería así."
   ]
  },
  {
   "cell_type": "code",
   "execution_count": null,
   "metadata": {},
   "outputs": [],
   "source": []
  },
  {
   "cell_type": "markdown",
   "metadata": {},
   "source": [
    "Para ver el efecto del día o mes, un *boxplot* podría ser interesante."
   ]
  },
  {
   "cell_type": "code",
   "execution_count": null,
   "metadata": {},
   "outputs": [],
   "source": [
    "using StatsPlots"
   ]
  },
  {
   "cell_type": "code",
   "execution_count": null,
   "metadata": {},
   "outputs": [],
   "source": [
    "pl1 = boxplot(mes, logArea, label=\"\", ylabel=\"log(área quemada)\")\n",
    "pl2 = boxplot(día, logArea, label=\"\", ylabel=\"log(área quemada)\")\n",
    "plot(pl1,pl2)"
   ]
  },
  {
   "cell_type": "markdown",
   "metadata": {},
   "source": [
    "## Crear modelos predictivos con aprendizaje automatizado\n",
    "\n",
    "Dado que se puede medir los variables cada día, sería valioso tener un modelo que puede decir algo sobre el riesgo de tener un incendio en cualquier día. Los modelos matemáticos pueden buscar patrones en los datos históricos y usar estos patrones para predicir el futuro. Pero antes de usar modelos predictivos, necesitamos entender la precisión del modelo también. Esto podemos lograr con un testeo del modelo con un parte de los registros. Por este motivo, tenemos que particionar la base de datos en un conjunto para entrenamiento y un conjunto para el testeo."
   ]
  },
  {
   "cell_type": "markdown",
   "metadata": {},
   "source": [
    "Normalmente se usa 80% de los datos para entrener y los otros 20% para el testeo."
   ]
  },
  {
   "cell_type": "code",
   "execution_count": null,
   "metadata": {
    "scrolled": true
   },
   "outputs": [],
   "source": [
    "nEntrenar = trunc(Int,0.8*sizeDF[1])\n",
    "println(\"El número de registros para el entrenamiento es \",nEntrenar)\n",
    "println(\"El número de registros para el testeo es \",sizeDF[1]-nEntrenar)"
   ]
  },
  {
   "cell_type": "markdown",
   "metadata": {},
   "source": [
    "**Ejercicio:** Explica que pasó en el código anterior."
   ]
  },
  {
   "cell_type": "markdown",
   "metadata": {},
   "source": [
    "Para ambos el conjunto de entrenamiento y el conjunto de testeo tenemos que buscar los datos para la predicción (*features*) y los datos del resultado (etiquetas), lo cual es el área quemada."
   ]
  },
  {
   "cell_type": "code",
   "execution_count": null,
   "metadata": {},
   "outputs": [],
   "source": [
    "datos_entrenar = convert(Array, dropmissing(df)[1:nEntrenar,1:12]);\n",
    "etiquetas_entrenar = convert(Array, dropmissing(df)[1:nEntrenar,13]);\n",
    "\n",
    "datos_testeo = convert(Array, dropmissing(df)[nEntrenar+1:sizeDF[1],1:12]);\n",
    "etiquetas_testeo = convert(Array, dropmissing(df)[nEntrenar+1:sizeDF[1],13]);"
   ]
  },
  {
   "cell_type": "markdown",
   "metadata": {},
   "source": [
    "Como modelo de predicción usamos bosques aleatorios (*random forests*)."
   ]
  },
  {
   "cell_type": "code",
   "execution_count": null,
   "metadata": {},
   "outputs": [],
   "source": [
    "using DecisionTree"
   ]
  },
  {
   "cell_type": "code",
   "execution_count": null,
   "metadata": {},
   "outputs": [],
   "source": [
    "modelo = build_forest(etiquetas_entrenar, datos_entrenar)"
   ]
  },
  {
   "cell_type": "markdown",
   "metadata": {},
   "source": [
    "**Ejercicio:** Explica el *output* que da la función."
   ]
  },
  {
   "cell_type": "markdown",
   "metadata": {},
   "source": [
    "Se puede analizar uno de los árboles de decisión con la función `print_tree()`."
   ]
  },
  {
   "cell_type": "code",
   "execution_count": null,
   "metadata": {},
   "outputs": [],
   "source": [
    "print_tree(modelo.trees[1])"
   ]
  },
  {
   "cell_type": "markdown",
   "metadata": {},
   "source": [
    "**Ejercicio:** ¿Cuál es la primera pregunta que haga este árbol de decisión? ¿Y el segundo árbol?"
   ]
  },
  {
   "cell_type": "markdown",
   "metadata": {},
   "source": [
    "Ahora que el modelo está entrenado, se puede hacer las predicciones para el conjunto de testeo."
   ]
  },
  {
   "cell_type": "code",
   "execution_count": null,
   "metadata": {},
   "outputs": [],
   "source": [
    "predicciones = [apply_forest(modelo, datos_testeo[i, :]) for i = 1:size(datos_testeo)[1]];"
   ]
  },
  {
   "cell_type": "code",
   "execution_count": null,
   "metadata": {},
   "outputs": [],
   "source": [
    "scatter([etiquetas_testeo, predicciones], xlabel=\"registro\", ylabel=\"área quemada\", label=[\"realidad\",\"predicción\"])"
   ]
  },
  {
   "cell_type": "code",
   "execution_count": null,
   "metadata": {},
   "outputs": [],
   "source": [
    "error = abs.(etiquetas_testeo-predicciones);"
   ]
  },
  {
   "cell_type": "code",
   "execution_count": null,
   "metadata": {},
   "outputs": [],
   "source": [
    "histogram(error, bins=15, label=\"\", title=\"Errores de la predicción\", xlabel=\"área quemada\")"
   ]
  },
  {
   "cell_type": "markdown",
   "metadata": {},
   "source": [
    "**Ejercicio:** Calcula el promedio del error."
   ]
  },
  {
   "cell_type": "code",
   "execution_count": null,
   "metadata": {},
   "outputs": [],
   "source": []
  },
  {
   "cell_type": "markdown",
   "metadata": {},
   "source": [
    "**Ejercicio:** Cambia las etiquetas en el logarítmo del área quemada y analiza el rendimiento.\n",
    "\n",
    "*Sugerencia:* Se puede copiar el código anterior y cambiar los nombres y variables."
   ]
  },
  {
   "cell_type": "code",
   "execution_count": null,
   "metadata": {},
   "outputs": [],
   "source": []
  },
  {
   "cell_type": "markdown",
   "metadata": {},
   "source": [
    "**Ejercicio:** Calcula el error con signo, es decir, elimina el valor absoluto en la definición del error. Visualiza la histograma del error, para ambos el área y el logarítmo del área, y explica el resultado."
   ]
  },
  {
   "cell_type": "markdown",
   "metadata": {},
   "source": [
    "**Ejercicio:** Explica si es mejor usar el área quemada o el logarítmo del área a la hora de predicir la extensión de incendios forestales."
   ]
  }
 ],
 "metadata": {
  "kernelspec": {
   "display_name": "Julia 1.0.3",
   "language": "julia",
   "name": "julia-1.0"
  },
  "language_info": {
   "file_extension": ".jl",
   "mimetype": "application/julia",
   "name": "julia",
   "version": "1.0.3"
  }
 },
 "nbformat": 4,
 "nbformat_minor": 2
}
